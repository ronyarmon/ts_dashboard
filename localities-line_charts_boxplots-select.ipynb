{
 "cells": [
  {
   "cell_type": "markdown",
   "metadata": {},
   "source": [
    "# Select localities"
   ]
  },
  {
   "cell_type": "code",
   "execution_count": null,
   "metadata": {},
   "outputs": [],
   "source": [
    "#import packages\n",
    "import pandas as pd\n",
    "import numpy as np\n",
    "import re\n",
    "import matplotlib.pyplot as plt\n",
    "import seaborn as sns\n",
    "import plotly\n",
    "plotly.offline.init_notebook_mode()\n",
    "import cufflinks as cf\n",
    "\n",
    "file_path='all_antibiotics_mock.csv'\n",
    "ab_all=pd.read_csv(file_path,low_memory=False)\n",
    "all_practices=ab_all['PRACTICE NAME'].unique().tolist() #practices list\n",
    "localities= ab_all.groupby('LOCALITY').mean() #stores localities means\n",
    "locality_names=ab_all['LOCALITY'].unique().tolist()\n",
    "practices_baseline=ab_all['BASELINE M12 2016-17']\n",
    "\n",
    "#BASELINES\n",
    "practices_baseline=ab_all['BASELINE M12 2016-17']\n",
    "localities_baesline=localities['BASELINE M12 2016-17']\n",
    "\n",
    "del ab_all['BASELINE M12 2016-17']\n",
    "del localities['BASELINE M12 2016-17']\n",
    "\n",
    "#localities time series\n",
    "localities_ts=localities.transpose() \n",
    "\n",
    "#calculate descriptive statistics for practices time series\n",
    "X = ab_all[['PRACTICE NAME', 'Apr-17', 'May-17', 'Jun-17', 'Jul-17', 'Aug-17', 'Sep-17', 'Oct-17', 'Nov-17', 'Dec-18',\n",
    "       'Jan-18', 'Feb-18', 'Mar-18']]\n",
    "X=X.set_index(X['PRACTICE NAME'])\n",
    "del X['PRACTICE NAME']\n",
    "X=X.transpose()\n",
    "descriptive=X.describe()\n",
    "descriptive=descriptive.transpose()\n",
    "descriptive=descriptive[['max','min','mean', 'std']]\n",
    "descriptive['PRACTICE NAME']=descriptive.index\n",
    "ab_all_descriptive=pd.merge(ab_all,descriptive)\n",
    "ab_all=ab_all_descriptive"
   ]
  },
  {
   "cell_type": "code",
   "execution_count": null,
   "metadata": {},
   "outputs": [],
   "source": [
    "for p in locality_names: print (p)\n",
    "selected_locality=input ('Select locality:') \n",
    "\n",
    "#prepare time series for practices in localities\n",
    "localities_df=ab_all.loc[ab_all['LOCALITY']==selected_locality]\n",
    "localities_df=localities_df.iloc[:, 1:14]\n",
    "practices_ts=pd.DataFrame() #dataframe for practices time series\n",
    "practice_ts=pd.Series() #series for practice time series(iteration)\n",
    "practices=localities_df['PRACTICE NAME'].unique().tolist() #list of practices in the locality\n",
    "for index1, practice in enumerate (practices): #iterate practices in locality\n",
    "        practice_ts=localities_df.loc[localities_df['PRACTICE NAME']==practice] #collect all values per practice\n",
    "        practices_ts[practice]=practice_ts.iloc[0,:] \n",
    "practices_ts = practices_ts.drop(\"PRACTICE NAME\", axis=0) #drop 1st row \n",
    "practices_ts['LOCALITY_MEAN']=practices_ts.mean(axis=1)\n",
    "\n",
    "#chart: time series with target lines\n",
    "plotly.offline.iplot({\n",
    "            'data':[{'x': practices_ts.index,'y': practices_ts[col],'name': col, 'mode': 'line',}\n",
    "            for col in practices_ts.columns], \n",
    "            'layout': {'title': selected_locality,'xaxis': {'title': 'Period'},'yaxis': {'title': \"Value\"},\n",
    "                       'shapes':[{'type': 'line','x0': 'Apr-17','y0': 1.161,'x1': 'Mar-18','y1': 1.161,\n",
    "                                'line': {'color': 'rgb(128, 0, 128)','width': 3,'dash': 'dot'}, \n",
    "                                 }, \n",
    "                                 {'type': 'line','x0': 'Apr-17','y0': 0.965,'x1': 'Mar-18','y1': 0.965,\n",
    "                                'line': {'color': 'rgb(128, 0, 128)','width': 3,'dash': 'dot'},\n",
    "                                  },],}})\n",
    "\n",
    "#chart: box plots\n",
    "cf.set_config_file(offline=True, world_readable=True, theme='ggplot')\n",
    "practices_ts.iplot(kind='box')"
   ]
  },
  {
   "cell_type": "code",
   "execution_count": null,
   "metadata": {},
   "outputs": [],
   "source": [
    "from IPython.display import HTML\n",
    "HTML('''<script>\n",
    "code_show=true; \n",
    "function code_toggle() {\n",
    " if (code_show){\n",
    " $('div.input').hide();\n",
    " } else {\n",
    " $('div.input').show();\n",
    " }\n",
    " code_show = !code_show\n",
    "} \n",
    "$( document ).ready(code_toggle);\n",
    "</script>\n",
    "The raw code for this IPython notebook is by default hidden for easier reading.\n",
    "To toggle on/off the raw code, click <a href=\"javascript:code_toggle()\">here</a>.''')"
   ]
  },
  {
   "cell_type": "code",
   "execution_count": null,
   "metadata": {},
   "outputs": [],
   "source": []
  }
 ],
 "metadata": {
  "kernelspec": {
   "display_name": "Python 3",
   "language": "python",
   "name": "python3"
  },
  "language_info": {
   "codemirror_mode": {
    "name": "ipython",
    "version": 3
   },
   "file_extension": ".py",
   "mimetype": "text/x-python",
   "name": "python",
   "nbconvert_exporter": "python",
   "pygments_lexer": "ipython3",
   "version": "3.6.4"
  }
 },
 "nbformat": 4,
 "nbformat_minor": 2
}
